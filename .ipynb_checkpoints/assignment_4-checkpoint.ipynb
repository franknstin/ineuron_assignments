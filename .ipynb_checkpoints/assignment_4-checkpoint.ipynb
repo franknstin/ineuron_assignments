{
 "cells": [
  {
   "cell_type": "code",
   "execution_count": 22,
   "metadata": {},
   "outputs": [],
   "source": [
    "class Area_triangle:\n",
    "    def __init__(self,side1, side2, side3):\n",
    "        self.a = side1\n",
    "        self.b = side2\n",
    "        self.c = side3\n",
    "    \n",
    "    def area(self):\n",
    "        s = self.a+self.b+self.c/2\n",
    "        return (s*(s-self.a)*(s-self.b)*(s-self.c))**0.5 "
   ]
  },
  {
   "cell_type": "code",
   "execution_count": 25,
   "metadata": {
    "scrolled": true
   },
   "outputs": [
    {
     "data": {
      "text/plain": [
       "7.685213074469699"
      ]
     },
     "execution_count": 25,
     "metadata": {},
     "output_type": "execute_result"
    }
   ],
   "source": [
    "Area_triangle(1,2,3).area()"
   ]
  },
  {
   "cell_type": "code",
   "execution_count": null,
   "metadata": {},
   "outputs": [],
   "source": []
  },
  {
   "cell_type": "code",
   "execution_count": null,
   "metadata": {},
   "outputs": [],
   "source": []
  },
  {
   "cell_type": "code",
   "execution_count": 28,
   "metadata": {},
   "outputs": [],
   "source": [
    "def filetr_long_words(ls, n):\n",
    "    filtered_ls=[]\n",
    "    for i in ls:\n",
    "        if len(i)>n:\n",
    "            filtered_ls.append(i)\n",
    "        else:\n",
    "            \n",
    "        \n",
    "    "
   ]
  },
  {
   "cell_type": "code",
   "execution_count": 29,
   "metadata": {},
   "outputs": [],
   "source": [
    "ls = ['abhi','abhishek','mhatre'], \n",
    "filetr_long_words(ls,4)\n"
   ]
  },
  {
   "cell_type": "code",
   "execution_count": null,
   "metadata": {},
   "outputs": [],
   "source": []
  }
 ],
 "metadata": {
  "kernelspec": {
   "display_name": "Python 3",
   "language": "python",
   "name": "python3"
  },
  "language_info": {
   "codemirror_mode": {
    "name": "ipython",
    "version": 3
   },
   "file_extension": ".py",
   "mimetype": "text/x-python",
   "name": "python",
   "nbconvert_exporter": "python",
   "pygments_lexer": "ipython3",
   "version": "3.7.1"
  }
 },
 "nbformat": 4,
 "nbformat_minor": 2
}
